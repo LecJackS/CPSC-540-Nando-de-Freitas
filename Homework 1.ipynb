{
 "cells": [
  {
   "cell_type": "markdown",
   "metadata": {},
   "source": [
    "# TODO\n",
    "\n",
    "* Add derivations requested in class\n",
    "\n",
    "not first one: https://youtu.be/2KXoC6Dxhxs?t=754"
   ]
  },
  {
   "cell_type": "markdown",
   "metadata": {},
   "source": [
    "## Load and standardize the data\n",
    "\n",
    "Download the prostate cancer dataset from the course website.\n",
    "\n",
    "In this prostate cancer study **9 variables** (including *age, log weight, log cancer volume, etc.*) were measured for **97 patients**.\n",
    "\n",
    "We will now construct a model to **predict the 9th variable**, a linear combination of the other 8.\n",
    "\n",
    "A description of this dataset appears in the textbook of Hastie et al, freely available on the course website:\n",
    "\n",
    ">\"The data for this example come from a study by Stamey et al. (1989) that examined the correlation\n",
    "between the level of prostate specific antigen (PSA) and a number of clinical measures, in 97 men who were\n",
    "about to receive a radical prostatectomy.\n",
    ">\n",
    ">**The goal is to predict the log of PSA (lpsa)** from a number of measurements including log cancer volume (lcavol), log prostate weight lweight, age, log of benign prostatichyperplasia amount lbph, seminal vesicle invasion svi, log of capsular penetration lcp, Gleason score gleason, and percent of Gleason scores 4 or 5 pgg45.\"\n",
    "\n",
    " \"***The Elements of Statistical Learning.*** *Data Mining, Inference, and Prediction*\"\n",
    " \n",
    "Trevor Hastie, Robert Tibshirani, Jerome Friedman\n",
    "\n",
    "https://web.stanford.edu/~hastie/ElemStatLearn//printings/ESLII_print12.pdf"
   ]
  },
  {
   "cell_type": "code",
   "execution_count": 34,
   "metadata": {
    "ExecuteTime": {
     "end_time": "2019-09-21T23:48:25.945354Z",
     "start_time": "2019-09-21T23:48:25.931278Z"
    }
   },
   "outputs": [],
   "source": [
    "import numpy as np"
   ]
  },
  {
   "cell_type": "code",
   "execution_count": 35,
   "metadata": {
    "ExecuteTime": {
     "end_time": "2019-09-21T23:48:26.107551Z",
     "start_time": "2019-09-21T23:48:25.991470Z"
    }
   },
   "outputs": [
    {
     "name": "stdout",
     "output_type": "stream",
     "text": [
      "Patients: 97\n",
      "  lcavol\tlweight\t  age\t\tlbph\t\tsvi\tlcp\tgleason\tpgg45\tlpsa\n",
      "[-0.5798185   2.769459   50.         -1.38629436  0.         -1.38629436\n",
      "  6.          0.        ]\n",
      "-0.4307829\n"
     ]
    }
   ],
   "source": [
    "# 1. First load the data and split it into a response vector (y) and a matrix of attributes (X),\n",
    "X = np.loadtxt('prostate.data.txt', skiprows=1, delimiter='\\t')\n",
    "y = X[:, -1]\n",
    "X = X[:,0: -1]\n",
    "print('Patients: {}'.format(len(y)))\n",
    "print('  lcavol\\tlweight\\t  age\\t\\tlbph\\t\\tsvi\\tlcp\\tgleason\\tpgg45\\tlpsa')\n",
    "print(X[0, :])\n",
    "print(y[0])"
   ]
  },
  {
   "cell_type": "code",
   "execution_count": 36,
   "metadata": {
    "ExecuteTime": {
     "end_time": "2019-09-21T23:48:26.129964Z",
     "start_time": "2019-09-21T23:48:26.113552Z"
    }
   },
   "outputs": [
    {
     "name": "stdout",
     "output_type": "stream",
     "text": [
      "Training set: 50 elements\n",
      "Test set: 47 elements\n"
     ]
    }
   ],
   "source": [
    "#Choose the first 50 patients as the training data. The remaining patients will be the test data.\n",
    "y_train, y_test = y[0:50], y[50:]\n",
    "X_train, X_test = X[0:50], X[50:]\n",
    "\n",
    "print('Training set: {} elements'.format(len(y_train)))\n",
    "print('Test set: {} elements'.format(len(y_test)))"
   ]
  },
  {
   "cell_type": "code",
   "execution_count": 37,
   "metadata": {
    "ExecuteTime": {
     "end_time": "2019-09-21T23:48:26.247380Z",
     "start_time": "2019-09-21T23:48:26.172508Z"
    }
   },
   "outputs": [
    {
     "name": "stdout",
     "output_type": "stream",
     "text": [
      "Before normalization\n",
      "[[-0.5798185   2.769459   50.         -1.38629436  0.         -1.38629436\n",
      "   6.          0.        ]\n",
      " [-0.99425227  3.319626   58.         -1.38629436  0.         -1.38629436\n",
      "   6.          0.        ]\n",
      " [-0.51082562  2.691243   74.         -1.38629436  0.         -1.38629436\n",
      "   7.         20.        ]]\n",
      "[-0.4307829 -0.1625189 -0.1625189] \n",
      "\n",
      "After normalization\n",
      "[[-1.26972558 -1.84388102 -1.72937235 -0.92242702 -0.20412415 -0.62841263\n",
      "  -0.7428692  -0.56945562]\n",
      " [-1.67344433 -0.34399259 -0.64000394 -0.92242702 -0.20412415 -0.62841263\n",
      "  -0.7428692  -0.56945562]\n",
      " [-1.2025165  -2.05711677  1.53873288 -0.92242702 -0.20412415 -0.62841263\n",
      "   0.63281451  0.26065461]]\n",
      "[-2.05581329 -1.78754929 -1.78754929]\n"
     ]
    }
   ],
   "source": [
    "# Set both variables to have zero mean and standardize the input variables to have unit variance.\n",
    "# Get mean and std\n",
    "X_bar = np.mean(X_train, axis=0)\n",
    "X_std = np.std(X_train, axis=0)\n",
    "y_bar = np.mean(y_train)\n",
    "\n",
    "# Before normalization\n",
    "print('Before normalization')\n",
    "print(X_train[0:3])\n",
    "print(y_train[0:3], '\\n')\n",
    "# Normalize\n",
    "y_train = y_train - y_bar\n",
    "X_train = (X_train - X_bar) / X_std\n",
    "\n",
    "#After normalization\n",
    "print('After normalization')\n",
    "print(X_train[0:3])\n",
    "print(y_train[0:3])"
   ]
  },
  {
   "cell_type": "markdown",
   "metadata": {
    "cell_style": "center"
   },
   "source": [
    "## Important detail:\n",
    "\n",
    "In the training step, we will learn the bias $\\theta_0$ **separately**.\n",
    "\n",
    "We do this because it makes **no sense** to apply regularization to the **bias** $\\theta_0$.\n",
    "\n",
    "Recall that the purpose of regularization is to **get rid of unwanted input attributes**.\n",
    "\n",
    "We will need the terms (X_bar, X_std, y_bar) when we do predictions.\n",
    "\n",
    "Mathematically, what we are saying is that the bias term will be computed separately as follows:\n",
    "\n",
    "$$\\theta_0 = \\bar{y} - \\bar{x}^T\\hat\\theta_j $$\n",
    "\n",
    "where $\\bar{y}$ is the mean of the elements of the training data vector $y$ and $\\bar{x}^T$ is the vector of 8 means for the input attributes.\n",
    "\n",
    "Note that in this case the 8-dimensional parameter vector $\\hat\\theta$ includes all the parameters other than the bias term that have been **learned with ridge regression**.\n",
    "\n",
    "That is, we first learn $\\hat\\theta$ using standardized data and then proceed to learn $\\theta_0$ (bias).\n",
    "\n",
    "When we encounter a **new** input $x^*$ in the **test set**, we need **to standardize** it before making a prediction.\n",
    "\n",
    "The actual prediction should be:\n",
    "\n",
    "$$\\hat{y} = \\bar{y} + \\sum_{j=1}^8 \\frac{x_j^* - \\bar{x}_j}{\\sigma_j} \\hat\\theta_j$$\n",
    "\n",
    "Figure 1: Regularization path for ridge regression.\n",
    "\n",
    "where $\\hat{x}_j$ and $\\sigma_j$ are the **mean* and **standard deviation** of the $j$-th attribute obtained from the **training data**.\n",
    "\n",
    "One reason for standardizing the inputs is that we want them to be **comparable**.\n",
    "\n",
    "If we had an input much bigger than the other, we would have wanted to apply a different regularizer to it.\n",
    "\n",
    "By standardizing the inputs first, we only need **a single scalar regularization** coefficient $\\delta^2$."
   ]
  },
  {
   "attachments": {},
   "cell_type": "markdown",
   "metadata": {},
   "source": [
    "> **Figure 1:** Regularization path for ridge regression.\n",
    ">\n",
    "> ![ridge-regression.png](./img/ridge-regression.png)\n",
    "\n"
   ]
  },
  {
   "cell_type": "markdown",
   "metadata": {},
   "source": [
    "## Ridge regression (*Tikhonov regularization*)\n",
    "\n",
    "$$\\hat\\theta = (X^TX + \\delta^2I \\,)^{-1} (y^TX)$$\n",
    "\n",
    "We will now construct a model using [ridge regression](https://en.wikipedia.org/wiki/Tikhonov_regularization) to predict the 9th variable as a **linear combination** of the other 8.\n",
    "1. Write code for ridge regression starting from the following skeleton:\n",
    "\n",
    ">    def ridge(X, y, d2):\n",
    ">\n",
    ">        # ???\n",
    ">        return theta"
   ]
  },
  {
   "cell_type": "code",
   "execution_count": 56,
   "metadata": {
    "ExecuteTime": {
     "end_time": "2019-09-21T23:58:20.897270Z",
     "start_time": "2019-09-21T23:58:20.884782Z"
    }
   },
   "outputs": [],
   "source": [
    "def ridge(X, y, d2):\n",
    "    # Identity matrix of size 8\n",
    "    num_feat = np.shape(X)[1]\n",
    "    I = np.eye(num_feat)\n",
    "    # shape(X) : (97, 8)\n",
    "    Xt = np.transpose(X)\n",
    "    yt = np.transpose(y)\n",
    "    XtX = np.dot(Xt, X) \n",
    "    ytX = np.dot(yt, X)\n",
    "    theta = np.dot(np.linalg.inv(XtX + d2*I), ytX)\n",
    "    return theta"
   ]
  },
  {
   "cell_type": "markdown",
   "metadata": {
    "ExecuteTime": {
     "end_time": "2019-08-04T20:19:36.317299Z",
     "start_time": "2019-08-04T20:19:36.310065Z"
    }
   },
   "source": [
    "Compute the ridge regression **solutions** for a range of regularizers ($\\delta^2$).\n",
    "\n",
    "Plot the **values of each $\\theta$ in the y-axis** against $\\delta^2$ in the x-axis.\n",
    "\n",
    "This set of plotted values is known as a ***regularization path***.\n",
    "\n",
    "Your plot should look like **Figure 1**.\n",
    "\n",
    "Hand in your version of this plot, along with the code you used to generate\n",
    "it."
   ]
  },
  {
   "cell_type": "code",
   "execution_count": 57,
   "metadata": {
    "ExecuteTime": {
     "end_time": "2019-09-21T23:58:21.236606Z",
     "start_time": "2019-09-21T23:58:21.209659Z"
    }
   },
   "outputs": [
    {
     "name": "stdout",
     "output_type": "stream",
     "text": [
      "thetas shape: (48, 8)\n"
     ]
    }
   ],
   "source": [
    "def get_thetas(X_train, y_train):\n",
    "    thetas = []\n",
    "    d2s = []\n",
    "    for i in np.arange(-3, 9, 0.25):\n",
    "        d2 = 10**i\n",
    "        d2s.append(d2)\n",
    "        thetas.append(ridge(X_train, y_train, d2))\n",
    "    return d2s, thetas\n",
    "\n",
    "d2s, thetas = get_thetas(X_train, y_train)\n",
    "print('thetas shape:', np.shape(thetas))"
   ]
  },
  {
   "cell_type": "code",
   "execution_count": 58,
   "metadata": {
    "ExecuteTime": {
     "end_time": "2019-09-21T23:58:22.106914Z",
     "start_time": "2019-09-21T23:58:21.400707Z"
    }
   },
   "outputs": [
    {
     "data": {
      "image/png": "[encoded data removed]",
      "text/plain": [
       "<Figure size 432x288 with 1 Axes>"
      ]
     },
     "metadata": {
      "needs_background": "light"
     },
     "output_type": "display_data"
    }
   ],
   "source": [
    "import matplotlib.pyplot as plt\n",
    "\n",
    "labels=['lcavol','lweight','age','lbph','svi','lcp','gleason','pgg45']\n",
    "\n",
    "plt.plot(d2s, thetas)\n",
    "plt.xscale('log')\n",
    "plt.title('\\n'.join((r'Best params $\\hat\\theta$ given data ($X,y$) and $\\delta^2$',\n",
    "                   r'$\\hat\\theta = (X^TX + \\delta^2I \\,)^{-1} (y^TX)$ , $\\hat\\theta \\in R^{1x8}$')))\n",
    "plt.xlabel(r'$\\delta^2$ (regularizer)')\n",
    "plt.ylabel(r'$\\hat\\theta$')\n",
    "plt.grid()\n",
    "plt.legend(labels)\n",
    "plt.show()"
   ]
  },
  {
   "cell_type": "markdown",
   "metadata": {},
   "source": [
    "For **each computed value of $\\hat\\theta$**, compute the **train and test error**.\n",
    "\n",
    "Remember, you will **have to standardize your test data** with the same means and standard deviations as above (X_bar, X_std, y_bar) **before you can make a prediction** and compute your test error.\n",
    "\n",
    "In other words, to make a prediction do:\n",
    "\n",
    "> $$\\hat y = \\bar y + \\frac{X_{test} - \\bar X}{\\sigma_X} \\hat\\theta$$\n",
    ">\n",
    ">    y_hat = y_bar + numpy.dot((X_test - Xbar) / X_std, theta)\n",
    "    \n",
    "Choose a value of $\\delta^2$ **using cross-validation**. \n",
    "\n",
    "What is this value? Show all your intermediate cross-validation steps and the criterion you used to choose $\\delta^2$.\n",
    "\n",
    "Plot the train and test errors as a function of $\\delta^2$ .\n"
   ]
  },
  {
   "cell_type": "code",
   "execution_count": 59,
   "metadata": {
    "ExecuteTime": {
     "end_time": "2019-09-21T23:58:22.314844Z",
     "start_time": "2019-09-21T23:58:22.259566Z"
    }
   },
   "outputs": [],
   "source": [
    "train_errors = np.zeros(len(d2s))\n",
    "test_errors  = np.zeros(len(d2s))\n",
    "cv_folds = 5\n",
    "for f in range(cv_folds):\n",
    "    # 5-fold cross validation\n",
    "    #  + 19 for test\n",
    "    #  + 79 for training\n",
    "    data_size = len(y)\n",
    "    test_size = data_size // cv_folds #19\n",
    "    # | 1 | 2 | 3 | 4 | 5 |\n",
    "    start_test = 0+f*test_size\n",
    "    end_test = start_test + test_size\n",
    "    start_1_train = 0\n",
    "    end_1_train   = max(0, start_test)\n",
    "    start_2_train = min(end_test, data_size)\n",
    "    end_2_train   = -1\n",
    "    # Separate data\n",
    "    y_test = y[start_test:end_test]\n",
    "    X_test = X[start_test:end_test]\n",
    "    y_train = np.concatenate((y[start_1_train:end_1_train], y[start_2_train:end_2_train]))\n",
    "    X_train = np.concatenate((X[start_1_train:end_1_train], X[start_2_train:end_2_train]))\n",
    "    # Get thetas for training data\n",
    "    d2s, thetas = get_thetas(X_train, y_train)\n",
    "    # Calculate mean and std\n",
    "    X_bar = np.mean(X_train, axis=0)\n",
    "    X_std = np.std(X_train, axis=0)\n",
    "    y_bar = np.mean(y_train)\n",
    "    standar_X_test = (X_test - X_bar) / X_std\n",
    "    for i, theta in enumerate(thetas):\n",
    "        # Training error (accumulates over k-folds)\n",
    "        y_hat_train = np.dot(X_train, theta)\n",
    "        error = np.linalg.norm((y_train - y_hat_train), ord=2)/np.linalg.norm(y_train, ord=2)\n",
    "        train_errors[i] += error\n",
    "        # Test error (accumulates over k-folds)\n",
    "        y_hat_test  = y_bar + np.dot(standar_X_test, theta)\n",
    "        error = np.linalg.norm((y_test - y_hat_test), ord=2)/np.linalg.norm(y_test, ord=2)\n",
    "        test_errors[i] += error\n",
    "\n",
    "# Take mean of k-folds errors\n",
    "train_errors = train_errors / cv_folds\n",
    "test_errors = test_errors / cv_folds"
   ]
  },
  {
   "cell_type": "code",
   "execution_count": null,
   "metadata": {
    "ExecuteTime": {
     "end_time": "2019-08-04T21:29:34.234532Z",
     "start_time": "2019-08-04T21:29:34.206726Z"
    }
   },
   "outputs": [],
   "source": []
  },
  {
   "cell_type": "code",
   "execution_count": 60,
   "metadata": {
    "ExecuteTime": {
     "end_time": "2019-09-21T23:58:24.131787Z",
     "start_time": "2019-09-21T23:58:23.683159Z"
    }
   },
   "outputs": [
    {
     "data": {
      "image/png": "[encoded data removed]",
      "text/plain": [
       "<Figure size 432x288 with 1 Axes>"
      ]
     },
     "metadata": {
      "needs_background": "light"
     },
     "output_type": "display_data"
    }
   ],
   "source": [
    "plt.plot(d2s, train_errors, label='Train error', marker='|', linewidth=4)\n",
    "plt.plot(d2s, test_errors, label='Test error', marker='|', linewidth=4)\n",
    "plt.plot(d2s, abs(test_errors-train_errors), label='distance', marker='|')\n",
    "plt.plot(d2s, np.maximum(test_errors,train_errors), label='min-max', marker='|')\n",
    "plt.plot(d2s, 10*np.square(test_errors-train_errors), label='average', marker='|')\n",
    "plt.xscale('log')\n",
    "plt.xlabel(r'$\\delta^2$ (log scale)')\n",
    "plt.ylabel('error')\n",
    "plt.grid()\n",
    "plt.legend()\n",
    "plt.show()\n",
    "#print(d2s)"
   ]
  },
  {
   "cell_type": "markdown",
   "metadata": {},
   "source": [
    "Using this information I can focus my search between 1 and 100"
   ]
  },
  {
   "cell_type": "code",
   "execution_count": 61,
   "metadata": {
    "ExecuteTime": {
     "end_time": "2019-09-21T23:58:25.213440Z",
     "start_time": "2019-09-21T23:58:25.184412Z"
    }
   },
   "outputs": [
    {
     "name": "stdout",
     "output_type": "stream",
     "text": [
      "thetas shape: (396, 8)\n"
     ]
    }
   ],
   "source": [
    "def get_finer_thetas(X_train, y_train):\n",
    "    thetas = []\n",
    "    d2s = []\n",
    "    for i in np.arange(1, 100, 0.25):\n",
    "        d2 = i\n",
    "        d2s.append(d2)\n",
    "        thetas.append(ridge(X_train, y_train, d2))\n",
    "    return d2s, thetas\n",
    "\n",
    "d2s, thetas = get_finer_thetas(X_train, y_train)\n",
    "print('thetas shape:', np.shape(thetas))"
   ]
  },
  {
   "cell_type": "code",
   "execution_count": 62,
   "metadata": {
    "ExecuteTime": {
     "end_time": "2019-09-21T23:58:26.058877Z",
     "start_time": "2019-09-21T23:58:25.847171Z"
    }
   },
   "outputs": [],
   "source": [
    "train_errors = np.zeros(len(d2s))\n",
    "test_errors  = np.zeros(len(d2s))\n",
    "cv_folds = 5\n",
    "for f in range(cv_folds):\n",
    "    # 5-fold cross validation\n",
    "    #  + 19 for test\n",
    "    #  + 79 for training\n",
    "    data_size = len(y)\n",
    "    test_size = data_size // cv_folds #19\n",
    "    # | 1 | 2 | 3 | 4 | 5 |\n",
    "    start_test = 0+f*test_size\n",
    "    end_test = start_test + test_size\n",
    "    start_1_train = 0\n",
    "    end_1_train   = max(0, start_test)\n",
    "    start_2_train = min(end_test, data_size)\n",
    "    end_2_train   = -1\n",
    "    # Separate data\n",
    "    y_test = y[start_test:end_test]\n",
    "    X_test = X[start_test:end_test]\n",
    "    y_train = np.concatenate((y[start_1_train:end_1_train], y[start_2_train:end_2_train]))\n",
    "    X_train = np.concatenate((X[start_1_train:end_1_train], X[start_2_train:end_2_train]))\n",
    "    # Get thetas for training data\n",
    "    d2s, thetas = get_finer_thetas(X_train, y_train)\n",
    "    # Calculate mean and std\n",
    "    X_bar = np.mean(X_train, axis=0)\n",
    "    X_std = np.std(X_train, axis=0)\n",
    "    y_bar = np.mean(y_train)\n",
    "    standar_X_test = (X_test - X_bar) / X_std\n",
    "    for i, theta in enumerate(thetas):\n",
    "        # Training error (accumulates over k-folds)\n",
    "        y_hat_train = np.dot(X_train, theta)\n",
    "        error = np.linalg.norm((y_train - y_hat_train), ord=2)/np.linalg.norm(y_train, ord=2)\n",
    "        train_errors[i] += error\n",
    "        # Test error (accumulates over k-folds)\n",
    "        y_hat_test  = y_bar + np.dot(standar_X_test, theta)\n",
    "        error = np.linalg.norm((y_test - y_hat_test), ord=2)/np.linalg.norm(y_test, ord=2)\n",
    "        test_errors[i] += error\n",
    "\n",
    "# Take mean of k-folds errors\n",
    "train_errors = train_errors / cv_folds\n",
    "test_errors = test_errors / cv_folds"
   ]
  },
  {
   "cell_type": "code",
   "execution_count": 65,
   "metadata": {
    "ExecuteTime": {
     "end_time": "2019-09-22T00:00:15.901363Z",
     "start_time": "2019-09-22T00:00:15.506244Z"
    }
   },
   "outputs": [
    {
     "data": {
      "image/png": "[encoded data removed]",
      "text/plain": [
       "<Figure size 432x288 with 1 Axes>"
      ]
     },
     "metadata": {
      "needs_background": "light"
     },
     "output_type": "display_data"
    }
   ],
   "source": [
    "plt.plot(d2s, train_errors, label='Train error', marker='|', linewidth=4)\n",
    "plt.plot(d2s, test_errors, label='Test error', marker='|', linewidth=4)\n",
    "plt.plot(d2s, abs(test_errors-train_errors), label='distance', marker='|')\n",
    "plt.plot(d2s, np.maximum(test_errors,train_errors), label='min-max', marker='|')\n",
    "plt.plot(d2s, 10*np.square(test_errors-train_errors), label='average', marker='|')\n",
    "#plt.xscale('log')\n",
    "plt.xlabel(r'$\\delta^2$')\n",
    "plt.ylabel('error')\n",
    "plt.grid()\n",
    "plt.legend()\n",
    "plt.show()\n",
    "#print(d2s)"
   ]
  },
  {
   "cell_type": "code",
   "execution_count": 61,
   "metadata": {
    "ExecuteTime": {
     "end_time": "2019-09-21T23:58:25.213440Z",
     "start_time": "2019-09-21T23:58:25.184412Z"
    }
   },
   "outputs": [
    {
     "name": "stdout",
     "output_type": "stream",
     "text": [
      "thetas shape: (396, 8)\n"
     ]
    }
   ],
   "source": [
    "def get_finer_thetas(X_train, y_train):\n",
    "    thetas = []\n",
    "    d2s = []\n",
    "    for i in np.arange(1, 100, 0.25):\n",
    "        d2 = i\n",
    "        d2s.append(d2)\n",
    "        thetas.append(ridge(X_train, y_train, d2))\n",
    "    return d2s, thetas\n",
    "\n",
    "d2s, thetas = get_finer_thetas(X_train, y_train)\n",
    "print('thetas shape:', np.shape(thetas))"
   ]
  },
  {
   "cell_type": "code",
   "execution_count": 62,
   "metadata": {
    "ExecuteTime": {
     "end_time": "2019-09-21T23:58:26.058877Z",
     "start_time": "2019-09-21T23:58:25.847171Z"
    }
   },
   "outputs": [],
   "source": [
    "train_errors = np.zeros(len(d2s))\n",
    "test_errors  = np.zeros(len(d2s))\n",
    "cv_folds = 5\n",
    "for f in range(cv_folds):\n",
    "    # 5-fold cross validation\n",
    "    #  + 19 for test\n",
    "    #  + 79 for training\n",
    "    data_size = len(y)\n",
    "    test_size = data_size // cv_folds #19\n",
    "    # | 1 | 2 | 3 | 4 | 5 |\n",
    "    start_test = 0+f*test_size\n",
    "    end_test = start_test + test_size\n",
    "    start_1_train = 0\n",
    "    end_1_train   = max(0, start_test)\n",
    "    start_2_train = min(end_test, data_size)\n",
    "    end_2_train   = -1\n",
    "    # Separate data\n",
    "    y_test = y[start_test:end_test]\n",
    "    X_test = X[start_test:end_test]\n",
    "    y_train = np.concatenate((y[start_1_train:end_1_train], y[start_2_train:end_2_train]))\n",
    "    X_train = np.concatenate((X[start_1_train:end_1_train], X[start_2_train:end_2_train]))\n",
    "    # Get thetas for training data\n",
    "    d2s, thetas = get_finer_thetas(X_train, y_train)\n",
    "    # Calculate mean and std\n",
    "    X_bar = np.mean(X_train, axis=0)\n",
    "    X_std = np.std(X_train, axis=0)\n",
    "    y_bar = np.mean(y_train)\n",
    "    standar_X_test = (X_test - X_bar) / X_std\n",
    "    for i, theta in enumerate(thetas):\n",
    "        # Training error (accumulates over k-folds)\n",
    "        y_hat_train = np.dot(X_train, theta)\n",
    "        error = np.linalg.norm((y_train - y_hat_train), ord=2)/np.linalg.norm(y_train, ord=2)\n",
    "        train_errors[i] += error\n",
    "        # Test error (accumulates over k-folds)\n",
    "        y_hat_test  = y_bar + np.dot(standar_X_test, theta)\n",
    "        error = np.linalg.norm((y_test - y_hat_test), ord=2)/np.linalg.norm(y_test, ord=2)\n",
    "        test_errors[i] += error\n",
    "\n",
    "# Take mean of k-folds errors\n",
    "train_errors = train_errors / cv_folds\n",
    "test_errors = test_errors / cv_folds"
   ]
  },
  {
   "cell_type": "code",
   "execution_count": 64,
   "metadata": {
    "ExecuteTime": {
     "end_time": "2019-09-21T23:58:48.656274Z",
     "start_time": "2019-09-21T23:58:48.324141Z"
    }
   },
   "outputs": [
    {
     "data": {
      "image/png": "[encoded data removed]",
      "text/plain": [
       "<Figure size 432x288 with 1 Axes>"
      ]
     },
     "metadata": {
      "needs_background": "light"
     },
     "output_type": "display_data"
    }
   ],
   "source": [
    "plt.plot(d2s, train_errors, label='Train error', marker='|', linewidth=4)\n",
    "plt.plot(d2s, test_errors, label='Test error', marker='|', linewidth=4)\n",
    "plt.plot(d2s, abs(test_errors-train_errors), label='distance', marker='|')\n",
    "plt.plot(d2s, np.maximum(test_errors,train_errors), label='min-max', marker='|')\n",
    "plt.plot(d2s, 10*np.square(test_errors-train_errors), label='average', marker='|')\n",
    "#plt.xscale('log')\n",
    "plt.xlabel(r'$\\delta^2$ (log scale)')\n",
    "plt.ylabel('error')\n",
    "plt.grid()\n",
    "plt.legend()\n",
    "plt.show()\n",
    "#print(d2s)"
   ]
  },
  {
   "cell_type": "code",
   "execution_count": 66,
   "metadata": {
    "ExecuteTime": {
     "end_time": "2019-09-22T00:01:44.410322Z",
     "start_time": "2019-09-22T00:01:44.392800Z"
    }
   },
   "outputs": [
    {
     "name": "stdout",
     "output_type": "stream",
     "text": [
      "thetas shape: (76, 8)\n"
     ]
    }
   ],
   "source": [
    "def get_finer_thetas(X_train, y_train):\n",
    "    thetas = []\n",
    "    d2s = []\n",
    "    for i in np.arange(1, 20, 0.25):\n",
    "        d2 = i\n",
    "        d2s.append(d2)\n",
    "        thetas.append(ridge(X_train, y_train, d2))\n",
    "    return d2s, thetas\n",
    "\n",
    "d2s, thetas = get_finer_thetas(X_train, y_train)\n",
    "print('thetas shape:', np.shape(thetas))"
   ]
  },
  {
   "cell_type": "code",
   "execution_count": 67,
   "metadata": {
    "ExecuteTime": {
     "end_time": "2019-09-22T00:01:46.066484Z",
     "start_time": "2019-09-22T00:01:46.011960Z"
    }
   },
   "outputs": [],
   "source": [
    "train_errors = np.zeros(len(d2s))\n",
    "test_errors  = np.zeros(len(d2s))\n",
    "cv_folds = 5\n",
    "for f in range(cv_folds):\n",
    "    # 5-fold cross validation\n",
    "    #  + 19 for test\n",
    "    #  + 79 for training\n",
    "    data_size = len(y)\n",
    "    test_size = data_size // cv_folds #19\n",
    "    # | 1 | 2 | 3 | 4 | 5 |\n",
    "    start_test = 0+f*test_size\n",
    "    end_test = start_test + test_size\n",
    "    start_1_train = 0\n",
    "    end_1_train   = max(0, start_test)\n",
    "    start_2_train = min(end_test, data_size)\n",
    "    end_2_train   = -1\n",
    "    # Separate data\n",
    "    y_test = y[start_test:end_test]\n",
    "    X_test = X[start_test:end_test]\n",
    "    y_train = np.concatenate((y[start_1_train:end_1_train], y[start_2_train:end_2_train]))\n",
    "    X_train = np.concatenate((X[start_1_train:end_1_train], X[start_2_train:end_2_train]))\n",
    "    # Get thetas for training data\n",
    "    d2s, thetas = get_finer_thetas(X_train, y_train)\n",
    "    # Calculate mean and std\n",
    "    X_bar = np.mean(X_train, axis=0)\n",
    "    X_std = np.std(X_train, axis=0)\n",
    "    y_bar = np.mean(y_train)\n",
    "    standar_X_test = (X_test - X_bar) / X_std\n",
    "    for i, theta in enumerate(thetas):\n",
    "        # Training error (accumulates over k-folds)\n",
    "        y_hat_train = np.dot(X_train, theta)\n",
    "        error = np.linalg.norm((y_train - y_hat_train), ord=2)/np.linalg.norm(y_train, ord=2)\n",
    "        train_errors[i] += error\n",
    "        # Test error (accumulates over k-folds)\n",
    "        y_hat_test  = y_bar + np.dot(standar_X_test, theta)\n",
    "        error = np.linalg.norm((y_test - y_hat_test), ord=2)/np.linalg.norm(y_test, ord=2)\n",
    "        test_errors[i] += error\n",
    "\n",
    "# Take mean of k-folds errors\n",
    "train_errors = train_errors / cv_folds\n",
    "test_errors = test_errors / cv_folds"
   ]
  },
  {
   "cell_type": "code",
   "execution_count": 69,
   "metadata": {
    "ExecuteTime": {
     "end_time": "2019-09-22T00:02:02.582457Z",
     "start_time": "2019-09-22T00:02:02.143883Z"
    }
   },
   "outputs": [
    {
     "data": {
      "image/png": "[encoded data removed]",
      "text/plain": [
       "<Figure size 432x288 with 1 Axes>"
      ]
     },
     "metadata": {
      "needs_background": "light"
     },
     "output_type": "display_data"
    }
   ],
   "source": [
    "plt.plot(d2s, train_errors, label='Train error', marker='|', linewidth=4)\n",
    "plt.plot(d2s, test_errors, label='Test error', marker='|', linewidth=4)\n",
    "plt.plot(d2s, abs(test_errors-train_errors), label='distance', marker='|')\n",
    "plt.plot(d2s, np.maximum(test_errors,train_errors), label='min-max', marker='|')\n",
    "plt.plot(d2s, 10*np.square(test_errors-train_errors), label='average', marker='|')\n",
    "#plt.xscale('log')\n",
    "plt.xlabel(r'$\\delta^2$')\n",
    "plt.ylabel('error')\n",
    "plt.grid()\n",
    "plt.legend()\n",
    "plt.show()\n",
    "#print(d2s)"
   ]
  },
  {
   "cell_type": "code",
   "execution_count": null,
   "metadata": {},
   "outputs": [],
   "source": []
  },
  {
   "cell_type": "code",
   "execution_count": 70,
   "metadata": {
    "ExecuteTime": {
     "end_time": "2019-09-22T00:02:41.720797Z",
     "start_time": "2019-09-22T00:02:41.708460Z"
    }
   },
   "outputs": [
    {
     "name": "stdout",
     "output_type": "stream",
     "text": [
      "d^2 chosen by best average error:\n",
      "best d^2 = 6.00 ~ 6.0\n",
      "\n",
      "d^2 chosen by min-max error:\n",
      "best d^2 = 8.25 ~ 8.25\n",
      "\n",
      "d^2 chosen by min difference:\n",
      "best d^2 = 13.25 ~ 13.25\n"
     ]
    }
   ],
   "source": [
    "best_d2_idx = np.argmin((test_errors+train_errors)/2.)\n",
    "best_d2 = d2s[best_d2_idx]\n",
    "print('d^2 chosen by best average error:')\n",
    "print('best d^2 = {:.2f} ~ {}\\n'.format(best_d2, best_d2))\n",
    "\n",
    "best_d2_idx = np.argmin(np.maximum(test_errors,train_errors))\n",
    "best_d2 = d2s[best_d2_idx]\n",
    "print('d^2 chosen by min-max error:')\n",
    "print('best d^2 = {:.2f} ~ {}\\n'.format(best_d2, best_d2))\n",
    "\n",
    "best_d2_idx = np.argmin(abs(test_errors-train_errors))\n",
    "best_d2 = d2s[best_d2_idx]\n",
    "print('d^2 chosen by min difference:')\n",
    "print('best d^2 = {:.2f} ~ {}'.format(best_d2, best_d2))"
   ]
  },
  {
   "cell_type": "markdown",
   "metadata": {
    "ExecuteTime": {
     "end_time": "2019-08-04T22:32:42.769311Z",
     "start_time": "2019-08-04T22:32:42.762245Z"
    }
   },
   "source": [
    "**Answer:** Best $\\delta^2 = 15$\n",
    "\n",
    "$$\\hat\\theta_{best} = (X^TX + 15\\,I \\,)^{-1} (y^TX)$$"
   ]
  },
  {
   "cell_type": "markdown",
   "metadata": {},
   "source": [
    "# Bayesian Linear Regression\n",
    "\n",
    "Let $X \\in R\\,^{n \\,\\times\\, d}$  and $y \\in R\\,^{n \\,\\times\\, 1}$.\n",
    "\n",
    "Assume the likelihood is Gaussian:\n",
    "\n",
    "$$p(y | X, \\theta, \\Sigma) = |2\\pi\\Sigma|^{-\\frac{1}{2}} e^{-\\frac{1}{2} (y-X\\theta)^T\\Sigma^{-1}(y-X\\theta)}$$\n",
    "\n",
    "Assume that the prior for $\\theta$ is also Gaussian:\n",
    "\n",
    "$$p(\\theta) = |2\\pi\\Delta|^{-\\frac{1}{2}} e^{-\\frac{1}{2} \\theta^T\\Delta^{-1}\\theta}$$\n",
    "\n",
    "1. Using Bayes rule and completing squares, derive an expression for the posterior distribution of θ.\n",
    " \n",
    "   In this part, assume that the covariance $\\Sigma$ **is given**.\n",
    " \n",
    "   State clearly what the mean and variance of the posterior are.\n",
    " \n",
    "   Also, state the conditions under which the posterior mean would be equivalent to the ridge and maximum likelihood estimators.\n",
    " \n",
    " \n"
   ]
  },
  {
   "cell_type": "markdown",
   "metadata": {},
   "source": [
    "![](./img/bayes-37.45.png)"
   ]
  },
  {
   "cell_type": "markdown",
   "metadata": {},
   "source": [
    "* **Problem:** That sum. Usually combinatorial or integral in high dimension (n=1millon, 1 millon dimensional integral)\n",
    "* **Gaussian** has no problem being integrated. A $10^{12}$ dimensional integral can be solved without problem. "
   ]
  },
  {
   "cell_type": "markdown",
   "metadata": {},
   "source": [
    "## Bayesian learning for model parameters\n",
    "\n",
    "> *If you have a **Gaussian Prior** $p(\\theta)$,*\n",
    ">\n",
    "> *and you multiply it **times** a **Gaussian Likelihood** $p( D \\,|\\, \\theta \\,)$,*\n",
    ">\n",
    "> *and you **normalize** by $p(D)$,*\n",
    ">\n",
    "> *you get a **Gaussian Posterior** $p(\\theta | D)$.*\n",
    "\n",
    "Where:\n",
    "\n",
    "> The **mean of the Posterior** $\\equiv$ **Ridge Regression** (*Tikhonov regularization*)\n",
    ">\n",
    "> Our ***beliefs*** over the **parameters** are ***subjective***: $\\theta$ is a random variable, there is no \"$\\text{true-theta}$\".\n",
    "\n",
    "### In a nutshell: we are going to *manipulate Gaussians*\n",
    "\n",
    "**Step 1:** Given n data, $D = x_{1:n} = {x_1, x_2, ..., x_n}$, $x \\in R^d$, write down the expression for the ***likelihood***:\n",
    "\n",
    "> $$p( D \\,|\\, \\theta \\,) \\sim \\mathcal{N}(\\theta | A\\theta + b, \\Sigma_y)$$"
   ]
  },
  {
   "cell_type": "markdown",
   "metadata": {},
   "source": [
    "**Step 2:** Specify a ***prior***:\n",
    "> $$p(\\theta)\\sim \\mathcal{N}(\\theta | \\mu_\\theta, \\Sigma_\\theta)$$\n",
    "\n",
    "**Step 3:** Compute the ***posterior***:\n",
    "\n",
    "> $$p(\\theta | D) = \\frac{p(D|\\theta\\,)p(\\theta)}{p(D\\,)} \\, \\propto \\, p(D|\\theta\\,)p(\\theta) \\sim \\mathcal{N}(\\theta | \\mu_{\\theta|D}, \\Sigma_{\\theta|D})$$\n",
    "\n",
    "Notice that proportional symbol \"$\\propto$\".\n",
    "\n",
    "Normalization term:\n",
    "> $$p(D) = \\int p(D|\\theta) \\, p(\\theta) \\, d\\theta = \\int p(D, \\theta) \\, d\\theta$$\n",
    "\n",
    "\n",
    "$p(D)$ is a **constant** wrt $\\theta$, so:\n",
    "\n",
    "> $$p(\\theta | D) = \\frac{1}{p(D\\,)} p(D|\\theta\\,)p(\\theta) \\text{ : has the same distribution as: }\\Rightarrow p(D|\\theta\\,)p(\\theta)$$"
   ]
  },
  {
   "cell_type": "markdown",
   "metadata": {},
   "source": [
    "2. Derive an analytical, closed-form expression for the **maximum likelihood estimate** of $\\Sigma$.\n",
    "  \n",
    "  You will need the following **properties of matrix derivatives** (for a symmetric matrix A):\n",
    "\n",
    "$$\\frac{\\partial log|A|}{\\partial A} = A^{-1}$$\n",
    "\n",
    "$$\\frac{\\partial trace(X^T AX)}{\\partial A} = XX^T$$\n",
    "\n",
    "**Hint:** Take derivatives of the log-likelihood with respect to $\\Sigma^{-1}$."
   ]
  },
  {
   "cell_type": "markdown",
   "metadata": {},
   "source": [
    "* **Note:**\n",
    "\n",
    "  $|A|$ is the determinant of matrix $A$, which is the [product of eigenvalues](https://www.cs.ox.ac.uk/people/nando.defreitas/machinelearning/class1.pdf). "
   ]
  },
  {
   "cell_type": "markdown",
   "metadata": {},
   "source": [
    "### Optimization way: ML\n",
    "\n",
    "First, Maximum Likelihood for $\\sigma$ in 1-d case (then $\\Sigma$ in $R^{dxd}$):\n",
    "\n",
    "Vector $y$ distributed as:\n",
    "\n",
    "$$y \\sim N(\\mu, \\sigma)$$\n",
    "\n",
    "$$p(y|X,\\theta,\\sigma) = (2\\pi\\sigma^2)^{-n/2} e^{-\\frac{1}{2\\sigma^2} (y-X\\theta)^T (y - X\\theta)}$$"
   ]
  },
  {
   "cell_type": "markdown",
   "metadata": {},
   "source": [
    "We want to maximize that conditional probability $p(y|X,\\theta,\\sigma)$\n",
    "\n",
    "So we need to take the derivative, but first apply $log$ to both sides:\n",
    "\n",
    ">$$l(\\sigma) = -\\frac{n}{2} log(2\\pi\\sigma^2) - \\frac{1}{2\\sigma^2} (y - X\\theta)^T(y-X\\theta)$$\n",
    ">\n",
    ">$$l(\\sigma) = -\\frac{n}{2} log(2\\pi) -\\frac{n}{2} log(\\sigma^2) - \\frac{1}{2\\sigma^2} (y - X\\theta)^T(y-X\\theta)$$\n"
   ]
  },
  {
   "cell_type": "markdown",
   "metadata": {},
   "source": [
    "Now, differentiate wrt $\\sigma$\n",
    "\n",
    ">$$l'(\\sigma) = 0 -\\frac{n}{2} \\frac{2\\sigma}{\\sigma^2} + \\frac{1}{2} 2\\sigma (y-X\\theta)^T(y-X\\theta)$$\n",
    ">\n",
    ">$$l'(\\sigma) = -\\frac{n}{\\sigma} + \\sigma (y-X\\theta)^T(y-X\\theta)$$"
   ]
  },
  {
   "cell_type": "markdown",
   "metadata": {},
   "source": [
    "We equate to zero to get critical point (which is a max because $l(\\sigma)$ has a negative quadratic term)"
   ]
  },
  {
   "cell_type": "markdown",
   "metadata": {},
   "source": [
    ">$$0 = -\\frac{n}{\\sigma} + \\sigma (y-X\\theta)^T(y-X\\theta)$$\n",
    ">\n",
    ">\n",
    ">$$\\frac{n}{\\sigma} = \\sigma (y-X\\theta)^T(y-X\\theta)$$\n",
    ">\n",
    ">\n",
    ">$$n = \\sigma^2 (y-X\\theta)^T(y-X\\theta)$$\n",
    ">\n",
    ">\n",
    ">$$n = \\sigma^2 \\sum_{i=1}^n (y_i-x_i\\theta)^2$$\n",
    ">\n",
    ">\n",
    ">$$\\frac{n}{\\sum_{i=1}^n (y_i-x_i\\theta)^2} = \\sigma^2$$\n",
    ">\n",
    ">\n",
    ">$$\\sqrt{\\left(\\frac{n}{\\sum_{i=1}^n (y_i-x_i\\theta)^2}\\right)} = \\sigma$$"
   ]
  },
  {
   "cell_type": "markdown",
   "metadata": {},
   "source": [
    "Now for $\\Sigma$ (covariance matrix):\n",
    "\n",
    ">$$Y \\sim N(\\mu, \\Sigma)$$\n",
    ">\n",
    ">$$p(Y|X,\\theta,\\Sigma) = (2\\pi\\Sigma^2)^{-n/2} e^{-\\frac{1}{2\\Sigma^2} (Y-X\\theta)^T (Y - X\\theta)}$$"
   ]
  },
  {
   "cell_type": "markdown",
   "metadata": {},
   "source": [
    "Take log, and then differentiate as before (wrt ***matrix*** $\\Sigma^{-1}$)\n",
    "\n",
    "> $$l(\\Sigma) = -\\frac{n}{2} log(2\\pi\\Sigma^2) -\\frac{1}{2\\Sigma^2} (Y-X\\theta)^T(Y-X\\theta)$$ \n",
    "\n",
    "> $$l(\\Sigma) = -\\frac{n}{2} log(2\\pi) -\\frac{n}{2} log(\\Sigma^2) -\\frac{1}{2\\Sigma^2} (Y-X\\theta)^T(Y-X\\theta)$$ "
   ]
  },
  {
   "cell_type": "markdown",
   "metadata": {},
   "source": [
    ">$$l'(\\Sigma^{-1}) = -\\frac{n}{2}\\left[\\frac{\\partial}{\\partial\\Sigma^{-1}}log(\\Sigma^2)\\right] - \\left[\\frac{\\partial}{\\partial\\Sigma^{-1}}  \\Sigma^{-2} \\right] \\frac{1}{2} (Y-X\\theta)^T(Y-X\\theta)$$\n",
    "\n",
    ">$$l'(\\Sigma^{-1}) = -\\frac{n}{2}\\left[\\frac{\\partial}{\\partial\\Sigma^{-1}}log(\\Sigma^2)\\right] - \\left[\\frac{\\partial}{\\partial\\Sigma^{-1}}  \\Sigma^{-2} \\right] \\frac{1}{2} (Y-X\\theta)^T(Y-X\\theta)$$"
   ]
  },
  {
   "cell_type": "markdown",
   "metadata": {},
   "source": [
    "I need those two derivatives:\n",
    "    \n",
    "> **1.** $\\frac{\\partial}{\\partial\\Sigma^{-1}}log(\\Sigma^2) = \\frac{\\partial}{\\partial\\Sigma^{-1}}log((\\Sigma^{-1})^{-2}) = $\n",
    ">\n",
    ">$= -2 \\frac{\\partial}{\\partial\\Sigma^{-1}} log((\\Sigma^{-1}))$\n",
    ">\n",
    ">\n",
    "> **2.** $\\frac{\\partial}{\\partial\\Sigma^{-1}}  \\Sigma^{-2} = \\frac{\\partial}{\\partial\\Sigma^{-1}}  (\\Sigma^{-1})^{2} $\n",
    ">\n",
    "> $= 2 \\frac{\\partial}{\\partial\\Sigma^{-1}}  (\\Sigma^{-1}) = 2$"
   ]
  },
  {
   "cell_type": "markdown",
   "metadata": {},
   "source": [
    "For **1.**, we can use this given property:\n",
    "\n",
    "> For a symmetric matrix $A$:\n",
    "> \n",
    "> $\\frac{\\partial log|A|}{\\partial A} = A^{-1}$"
   ]
  },
  {
   "cell_type": "markdown",
   "metadata": {},
   "source": [
    "Using [Cholesky decomposition](https://en.wikipedia.org/wiki/Cholesky_decomposition)\n",
    "\n",
    "$\\Sigma^2 = L L^T$\n",
    "\n",
    "$\\frac{\\partial}{\\partial\\Sigma}log(\\Sigma^2)$\n",
    "\n",
    "$\\frac{\\partial}{\\partial\\Sigma}log(L L^T)$"
   ]
  },
  {
   "cell_type": "markdown",
   "metadata": {},
   "source": [
    "Debo llegar a:\n",
    "\n",
    "$\\sigma^2 = (Y-X\\theta)^T (Y-X\\theta) = \\frac{1}{n} \\sum_{i=1}^n (y_i - x_i\\theta)^2$"
   ]
  },
  {
   "cell_type": "markdown",
   "metadata": {},
   "source": [
    "![bayes56.00.png](./img/bayes56.00.png)"
   ]
  },
  {
   "cell_type": "markdown",
   "metadata": {},
   "source": [
    "Using Bayes rule for Gaussians, the posterior is given by:\n",
    "    \n",
    "> $$p(\\theta \\,|\\, X,y,\\sigma^2) \\propto \\mathcal{N}(\\theta \\,|\\, \\theta_0, V_0) \\  \\mathcal{N}(y\\,|\\,X\\theta, \\sigma^2 I) = \\mathcal{N}(\\theta \\,|\\, \\theta_n, V_n)$$\n",
    "\n",
    "Where:\n",
    "\n",
    "> $$\\theta_n = V_nV_0^{-1} -\\frac{1}{\\sigma^2}V_n X^T y$$\n",
    "> \n",
    "> $$V_n^{-1} = V_0^{-1} -\\frac{1}{\\sigma^2}X^TX$$\n",
    "\n",
    "* $V \\in \\mathbf{R}^{nxn}$ has orthonormal columns and rows, that is, $V$ is an **orthogonal matrix**, so $V^{-1} = V^T$"
   ]
  },
  {
   "cell_type": "code",
   "execution_count": 95,
   "metadata": {
    "ExecuteTime": {
     "end_time": "2019-09-22T13:35:44.550758Z",
     "start_time": "2019-09-22T13:35:44.209329Z"
    }
   },
   "outputs": [
    {
     "data": {
      "image/png": "[encoded data removed]",
      "text/plain": [
       "<Figure size 432x288 with 1 Axes>"
      ]
     },
     "metadata": {
      "needs_background": "light"
     },
     "output_type": "display_data"
    }
   ],
   "source": [
    "import matplotlib.pyplot as plt\n",
    "import numpy as np\n",
    "import scipy.stats as stats\n",
    "import math\n",
    "\n",
    "# Prior\n",
    "mu = 0\n",
    "variance = 10\n",
    "sigma = math.sqrt(variance)\n",
    "x = np.linspace(mu - 3*sigma, mu + 3*sigma, 100)\n",
    "plt.plot(x, stats.norm.pdf(x, mu, sigma), label='Prior')\n",
    "\n",
    "# Likelihood\n",
    "mu = 10\n",
    "variance = 1\n",
    "sigma = math.sqrt(variance)\n",
    "x = np.linspace(mu - 3*sigma, mu + 3*sigma, 100)\n",
    "plt.plot(x, stats.norm.pdf(x, mu, sigma), label='Likelihood')\n",
    "\n",
    "# Posterior (unknown)\n",
    "mu = 5\n",
    "variance = 2\n",
    "sigma = math.sqrt(variance)\n",
    "x = np.linspace(mu - 3*sigma, mu + 3*sigma, 100)\n",
    "plt.plot(x, stats.norm.pdf(x, mu, sigma), 'r-', linestyle='dashed', label='Posterior')\n",
    "plt.legend()\n",
    "plt.show()"
   ]
  },
  {
   "cell_type": "markdown",
   "metadata": {},
   "source": [
    "#### Derivation:\n",
    "\n",
    "$$\\large{p(\\theta \\,|\\, y,X,\\sigma^2) \\, \\propto \\, p(y \\,|\\, X, \\theta, \\sigma^2) \\, p(\\theta) }$$\n",
    "\n",
    ">$p(y \\,|\\, X, \\theta, \\sigma^2) = e^{\\frac{-1}{2\\sigma^2} (y-X\\theta)^T(y-X\\theta)} = e^{\\frac{-1}{2} (y-X\\theta)^T (\\sigma^2 I)^{-1} (y-X\\theta)}$\n",
    ">\n",
    ">$p(\\theta) = e^{\\frac{-1}{2} (\\theta - \\theta_0)^T V_0^{-1} (\\theta-\\theta_0)}$\n",
    "\n",
    "$$p(\\theta \\,|\\, y,X,\\sigma^2) \\propto \\Large{ e^{\\frac{-1}{2\\sigma^2} (y-X\\theta)^T(y-X\\theta)} e^{\\frac{-1}{2} (\\theta - \\theta_0)^T V_0^{-1} (\\theta-\\theta_0)}}$$"
   ]
  },
  {
   "cell_type": "markdown",
   "metadata": {},
   "source": [
    "$$\\Large{= e^{\\frac{-1}{2} \\left[ (y-X\\theta)^T \\sigma^{-2} (y-X\\theta) \\,+\\, (\\theta - \\theta_0)^T V_0^{-1} (\\theta-\\theta_0) \\right] }}$$\n",
    "\n",
    "> $(y-X\\theta)^T \\sigma^{-2} (y-X\\theta) = \\sigma^{-2} y^T y \\ -\\  2\\sigma^{-2} y X\\theta \\ +\\  \\sigma^{-2} \\theta^T X^T X \\theta$\n",
    ">\n",
    "> $(\\theta - \\theta_0)^T V_0^{-1} (\\theta-\\theta_0) = \\theta^T V_0^{-1} \\theta \\ - \\ 2 \\theta_0^T V_0^{-1} \\theta \\ + \\ \\theta_0^T V_0^{-1} \\theta_0$"
   ]
  },
  {
   "cell_type": "markdown",
   "metadata": {},
   "source": [
    "$$\\Large{= e^{\\frac{-1}{2} \\left[ \\sigma^{-2} y^T y \\ -\\  2\\sigma^{-2} y^T X\\theta \\ +\\  \\sigma^{-2} \\theta^T X^T X \\theta \\ +\\ \\theta^T V_0^{-1} \\theta \\ - \\ 2 \\theta_0^T V_0^{-1} \\theta \\ + \\ \\theta_0^T V_0^{-1} \\theta_0 \\right] }}$$"
   ]
  },
  {
   "cell_type": "markdown",
   "metadata": {},
   "source": [
    "Now I'll **group exponent terms** into ***quadratic*** ($\\theta^T\\theta$), ***linear*** ($\\theta$) and ***constant*** (do not confuse with $\\theta_0$!)\n",
    "\n",
    "> $\\sigma^{-2} y^T y \\ -\\  2\\sigma^{-2} y^T X\\theta \\ +\\  \\sigma^{-2} \\theta^T X^T X \\theta \\ +\\ \\theta^T V_0^{-1} \\theta \\ - \\ 2 \\theta_0^T V_0^{-1} \\theta \\ + \\ \\theta_0^T V_0^{-1} \\theta_0$"
   ]
  },
  {
   "cell_type": "markdown",
   "metadata": {},
   "source": [
    "> $\\left[\\sigma^{-2} \\theta^T X^T X \\theta  \\ +\\ \\theta^T V_0^{-1} \\theta \\right] \\ -\\  \\left[2\\sigma^{-2} y^T X\\theta  \\ +\\ 2 \\theta_0^T V_0^{-1} \\theta \\right] \\ + \\ \\left[\\sigma^{-2} y^T y \\ + \\ \\theta_0^T V_0^{-1} \\theta_0 \\right]$"
   ]
  },
  {
   "cell_type": "markdown",
   "metadata": {},
   "source": [
    "We are working to **proportionality**, so **constants are not relevant**.\n",
    "\n",
    "For simplicity, I'll stop keeping track of them and use \"$[\\text{const}]$\" instead\n",
    "\n",
    "> $\\left[ \\theta^T X^T (\\sigma^{2} I)^{-1} X \\theta  \\ +\\ \\theta^T V_0^{-1} \\theta \\right] \\ -\\  \\left[2 y^T (\\sigma^{2} I)^{-1} X\\theta  \\ +\\ 2 \\theta_0^T V_0^{-1} \\theta \\right] \\ + \\ \\left[ \\text{const} \\right]$"
   ]
  },
  {
   "cell_type": "markdown",
   "metadata": {},
   "source": [
    "> $\\left[\\  \\theta^T\\left(X^T (\\sigma^{2} I)^{-1} X + V_0^{-1}\\right) \\theta \\ \\right] \\ -\\ \\left[\\ 2 \\left(y^T (\\sigma^{2} I)^{-1} X  \\ +\\ \\theta_0^T V_0^{-1} \\right) \\theta \\ \\right] \\ + \\ \\left[ \\text{const} \\right]$"
   ]
  },
  {
   "cell_type": "markdown",
   "metadata": {},
   "source": [
    "Rename $V_n^{-1} := X^T (\\sigma^{2} I)^{-1} X + V_0^{-1}$"
   ]
  },
  {
   "cell_type": "markdown",
   "metadata": {},
   "source": [
    "> $\\left[\\  \\theta^T V_n^{-1} \\ \\theta \\ \\right] \\ -\\ \\left[\\ 2 \\left(\\frac{y^T X}{\\sigma^2}  \\ +\\ \\theta_0^T V_0^{-1} \\right) \\theta \\ \\right] \\ + \\ \\left[ \\text{const} \\right]$"
   ]
  },
  {
   "cell_type": "markdown",
   "metadata": {},
   "source": [
    "Now the trick: ***\"Completing squares\"***\n",
    "\n",
    "* **Add and substract:** $\\left( 2 \\ \\theta_n^T \\ V_n^{-1} \\ \\theta \\right)$"
   ]
  },
  {
   "cell_type": "markdown",
   "metadata": {},
   "source": [
    "> $\\left[\\  \\theta^T V_n^{-1} \\ \\theta \\ \\right] \\ -\\ \\left(2 \\ \\theta_n^T \\ V_n^{-1} \\ \\theta\\right) + \\left(2 \\ \\theta_n^T \\ V_n^{-1} \\ \\theta\\right) - \\left[\\ 2 \\left(\\frac{y^T X}{\\sigma^2}  \\ +\\ \\theta_0^T V_0^{-1} \\right) \\theta \\ \\right] \\ + \\ \\left[ \\text{const} \\right]$"
   ]
  },
  {
   "cell_type": "markdown",
   "metadata": {},
   "source": [
    "Now the terms $\\left[\\  \\theta^T V_n^{-1} \\ \\theta \\ \\right] \\ -\\ \\left(2 \\ \\theta_n^T \\ V_n^{-1} \\ \\theta\\right) \\ + \\ \\left[ \\text{const} \\right]$\n",
    "\n",
    "can be seen as a **new Gaussian distribution with mean** $\\theta_n$ (unknown) **and covariance** $V_n$"
   ]
  },
  {
   "cell_type": "markdown",
   "metadata": {},
   "source": [
    "> $\\left[\\  \\left(\\theta-\\theta_n\\right)^T V_n^{-1} \\ \\left(\\theta-\\theta_n\\right) \\ \\right] + \\left(2 \\ \\theta_n^T \\ V_n^{-1} \\ \\theta\\right) - \\left[\\ 2 \\left(\\frac{y^T X}{\\sigma^2}  \\ +\\ \\theta_0^T V_0^{-1} \\right) \\theta \\ \\right] \\ + \\ \\left[ \\text{const}_2 \\right]$"
   ]
  },
  {
   "cell_type": "markdown",
   "metadata": {},
   "source": [
    "Rearrange the linear terms:\n",
    "> $\\left[\\  \\left(\\theta-\\theta_n\\right)^T V_n^{-1} \\ \\left(\\theta-\\theta_n\\right) \\ \\right] + 2 \\left[\\ \\theta_n^T \\ V_n^{-1}  - \\frac{y^T X}{\\sigma^2}  \\ -\\ \\theta_0^T V_0^{-1}  \\ \\right] \\theta \\ + \\ \\left[ \\text{const}_2 \\right]$"
   ]
  },
  {
   "cell_type": "markdown",
   "metadata": {},
   "source": [
    "So we have:\n",
    "\n",
    "$$\\propto \\Large{e^{\\frac{-1}{2}\\left(\\ \\left[\\  \\left(\\theta-\\theta_n\\right)^T V_n^{-1} \\ \\left(\\theta-\\theta_n\\right) \\ \\right]  + \\ \\left[ \\text{const}_2 \\right] \\ +\\ 2 \\left[\\ \\theta_n^T \\ V_n^{-1}  - \\frac{y^T X}{\\sigma^2}  \\ -\\ \\theta_0^T V_0^{-1}  \\ \\right] \\theta \\right)}}$$"
   ]
  },
  {
   "cell_type": "markdown",
   "metadata": {},
   "source": [
    "I need to get rid of that extra term, so I'll search for a $\\theta_n$ that makes the whole term zero:\n",
    "\n",
    "$$\\left[\\ \\theta_n^T \\ V_n^{-1}  - \\frac{y^T X}{\\sigma^2}  \\ -\\ \\theta_0^T V_0^{-1}  \\ \\right] = 0$$"
   ]
  },
  {
   "cell_type": "markdown",
   "metadata": {},
   "source": [
    "$$\\theta_n^T \\ V_n^{-1} = \\frac{y^T X}{\\sigma^2}  \\ -\\ \\theta_0^T V_0^{-1}$$\n",
    "\n",
    "$$\\theta_n^T =   \\left( \\frac{y^T X}{\\sigma^2}  \\ -\\ \\theta_0^T V_0^{-1}\\right) V_n \\ ,_\\text{< TODO: check this step}$$ \n",
    "\n",
    "> $$\\theta_n =   V_n \\left(V_0^{-1} \\theta_0  \\ +\\ \\frac{X^T y}{\\sigma^2} \\right)$$ "
   ]
  },
  {
   "cell_type": "markdown",
   "metadata": {},
   "source": [
    "Then, if $\\theta_n =   V_n \\left(V_0^{-1} \\theta_0  \\ +\\ \\frac{X^T y}{\\sigma^2} \\right)$:\n",
    "\n",
    "> $$p(\\theta | X, y, \\sigma^2) \\propto \\Large{e^{\\frac{-1}{2}\\left(\\ \\left(\\theta-\\theta_n\\right)^T \\ V_n^{-1} \\ \\left(\\theta-\\theta_n\\right) \\right)}}$$"
   ]
  },
  {
   "cell_type": "markdown",
   "metadata": {},
   "source": [
    "And by definition of a multivariate Gaussian, the **normalizing constant** of the exponent of the quadratic:\n",
    "\n",
    "$$\\int {e^{\\frac{-1}{2}\\left(\\ \\left(\\theta-\\theta_n\\right)^T \\ V_n^{-1} \\ \\left(\\theta-\\theta_n\\right) \\right)} d\\theta} = |2 \\pi V_n|^{1/2}$$"
   ]
  },
  {
   "cell_type": "markdown",
   "metadata": {},
   "source": [
    "Finally, we have an **exact equation** for the **distribution of the posterior** of $\\theta$:\n",
    "\n",
    "> $$\\therefore \\ p(\\theta | X, y, \\sigma^2)\\ \\ \\Large{=} \\normalsize{\\ \\left|2 \\pi V_n \\right|^{-1/2}\\ } \\ \\Large{e^{\\frac{-1}{2}\\left(\\ \\left(\\theta-\\theta_n\\right)^T \\ V_n^{-1} \\ \\left(\\theta-\\theta_n\\right) \\right)}}$$\n",
    "\n",
    "with **mean** $\\theta_n$ and **variance** $V_n$:\n",
    "\n",
    "> $\\theta_n =   V_n \\left(V_0^{-1} \\theta_0  \\ +\\ \\frac{X^T y}{\\sigma^2} \\right)$\n",
    ">\n",
    "> $V_n^{-1} = V_0^{-1} + X^T (\\sigma^{2} I)^{-1} X$\n",
    "\n",
    "Where\n",
    "\n",
    "> $V_0$ = Prior variance\n",
    ">\n",
    "> $\\sigma^2$ = Likelihood variance"
   ]
  },
  {
   "cell_type": "markdown",
   "metadata": {},
   "source": [
    "* 2nd part of the exercise: \n",
    "\n",
    "> *Also, state the conditions under which the **posterior mean** would be equivalent to the **ridge and maximum likelihood estimators**.*"
   ]
  },
  {
   "cell_type": "markdown",
   "metadata": {},
   "source": [
    "Let's consider\n",
    "> Prior mean $\\theta_0 = 0$\n",
    ">\n",
    "> Prior variance $V_0 = \\tau_0^2 I_d$ , $\\tau_0^2 \\in R^+$, positive scalar over a diagonal matrix."
   ]
  },
  {
   "cell_type": "markdown",
   "metadata": {},
   "source": [
    "Then, the posterior mean reduces to\n",
    "> $\\theta_n =   V_n \\left(V_0^{-1} \\theta_0  \\ +\\ \\frac{X^T y}{\\sigma^2} \\right)$\n",
    ">\n",
    "> $\\theta_n =   V_n \\left(\\frac{X^T y}{\\sigma^2} \\right)$\n",
    ">\n",
    "> $\\theta_n =   V_n \\left( \\frac{1}{\\sigma^2} X^T y \\right)$\n",
    "\n",
    "where\n",
    "\n",
    "> $V_n^{-1} \\ = \\ V_0^{-1} + X^T (\\sigma^{2} I)^{-1} X \\ = \\ V_0^{-1} + \\frac{1}{\\sigma^{2}} X^T X$"
   ]
  },
  {
   "cell_type": "markdown",
   "metadata": {},
   "source": [
    "Replacing $V_n$\n",
    "> $\\theta_n =   (V_0^{-1} +  \\frac{1}{\\sigma^{2}} X^T X)^{-1} \\left(\\frac{1}{\\sigma^2} X^T y \\right)$\n",
    ">\n",
    "> $\\theta_n =  \\frac{1}{\\sigma^2} \\left( V_0^{-1} +  \\frac{1}{\\sigma^{2}} X^T X\\right)^{-1} X^T y $"
   ]
  },
  {
   "cell_type": "markdown",
   "metadata": {},
   "source": [
    "> $$\\theta_n =  \\frac{1}{\\sigma^2} \\left(V_0^{-1} + \\frac{1}{\\sigma^{2}} X^T X\\right)^{-1}  X^T y $$\n",
    ">\n",
    "> $V_0 = \\tau_0^2 I_d$\n",
    ">\n",
    "> $$\\theta_n =  \\frac{1}{\\sigma^2} \\left((\\tau_0^2 I_d)^{-1} + \\frac{1}{\\sigma^{2}} X^T X\\right)^{-1} X^T y $$\n",
    ">\n",
    "> $$\\theta_n =  \\left(\\sigma^2\\right)^{-1} \\left(\\frac{1}{\\tau_0^2 I_d} + \\frac{1}{\\sigma^{2}} X^T X\\right)^{-1} X^T y $$\n",
    ">\n",
    "> $I_d ^ {-1} = I_d$\n",
    ">\n",
    "> $$\\theta_n = \\left(\\frac{\\sigma^2}{\\tau_0^2}  I_d + \\frac{\\sigma^2}{\\sigma^{2}} X^T X\\right)^{-1} X^T y $$\n",
    "\n",
    "defining: $\\lambda := \\frac{\\sigma^2}{\\tau_0^2}$\n",
    "\n",
    "> $$\\theta_n =  \\left( \\lambda I_d + X^T X\\right)^{-1}  X^T y $$\n"
   ]
  },
  {
   "cell_type": "markdown",
   "metadata": {},
   "source": [
    "Wich is exactly **Ridge Regression** (***Tikhonov regularization***)\n",
    "\n",
    "Notice:\n",
    "\n",
    "* If our Prior is very flat (very high variance)\n",
    "  \n",
    "  **Bigger** $V_0 \\Rightarrow$ **bigger** $\\tau_0^2 I_d$ \n",
    "  \n",
    "  **Bigger** $\\tau_0^2 I_d \\Rightarrow$ **smaller** $\\lambda$, because $\\lambda = \\frac{\\sigma^2}{\\tau_0^2}$\n",
    "  \n",
    "  So if our Prior variance goes to infinity, $\\lambda$ dissappears\n",
    "  \n",
    "  as $V_0 \\rightarrow \\infty \\Rightarrow \\lambda \\rightarrow 0$\n",
    "  \n",
    "  $$\\theta_n = \\left( X^T X\\right)^{-1}  X^T y $$\n",
    "  \n",
    "Wich is exactly **Linear Regression** (ridge regression without regularization)"
   ]
  },
  {
   "cell_type": "code",
   "execution_count": null,
   "metadata": {},
   "outputs": [],
   "source": []
  }
 ],
 "metadata": {
  "kernelspec": {
   "display_name": "Python 3",
   "language": "python",
   "name": "python3"
  },
  "language_info": {
   "codemirror_mode": {
    "name": "ipython",
    "version": 3
   },
   "file_extension": ".py",
   "mimetype": "text/x-python",
   "name": "python",
   "nbconvert_exporter": "python",
   "pygments_lexer": "ipython3",
   "version": "3.7.3"
  },
  "toc": {
   "base_numbering": 1,
   "nav_menu": {},
   "number_sections": true,
   "sideBar": true,
   "skip_h1_title": false,
   "title_cell": "Table of Contents",
   "title_sidebar": "Contents",
   "toc_cell": false,
   "toc_position": {},
   "toc_section_display": true,
   "toc_window_display": false
  }
 },
 "nbformat": 4,
 "nbformat_minor": 2
}
